{
  "nbformat": 4,
  "nbformat_minor": 0,
  "metadata": {
    "colab": {
      "provenance": [],
      "authorship_tag": "ABX9TyN8q2qBVwFZnoxkKHljQeoL",
      "include_colab_link": true
    },
    "kernelspec": {
      "name": "python3",
      "display_name": "Python 3"
    },
    "language_info": {
      "name": "python"
    }
  },
  "cells": [
    {
      "cell_type": "markdown",
      "metadata": {
        "id": "view-in-github",
        "colab_type": "text"
      },
      "source": [
        "<a href=\"https://colab.research.google.com/github/Sujnan06/Complete-Python-3-Bootcamp/blob/master/Simulation%20for%20train%20test%20split.ipynb\" target=\"_parent\"><img src=\"https://colab.research.google.com/assets/colab-badge.svg\" alt=\"Open In Colab\"/></a>"
      ]
    },
    {
      "cell_type": "code",
      "execution_count": 1,
      "metadata": {
        "colab": {
          "base_uri": "https://localhost:8080/"
        },
        "id": "dAnhhdrO7UDX",
        "outputId": "928e7bed-0506-493f-b1dc-8e24e17414d9"
      },
      "outputs": [
        {
          "output_type": "stream",
          "name": "stdout",
          "text": [
            "         x1        x2        x3  x4  x5  y\n",
            "0  0.960627  0.188248  0.675273   1   2  1\n",
            "1  1.715057  0.280350  0.407794   1   4  1\n",
            "2  1.241315  0.940921  0.706215   0   4  1\n",
            "3 -1.147444  0.589229  0.909610   0   3  1\n",
            "4  0.460867  0.777761  0.126164   0   4  1\n"
          ]
        }
      ],
      "source": [
        "import numpy as np\n",
        "import pandas as pd\n",
        "\n",
        "def generate_dataset(n_samples, beta, beta_0=0):\n",
        "    \"\"\"\n",
        "    Generate dataset (x, y) using a logit model.\n",
        "\n",
        "    Parameters:\n",
        "        n_samples (int): Number of samples to generate.\n",
        "        beta (list or np.array): Coefficients [beta1, beta2, beta3, beta4, beta5].\n",
        "        beta_0 (float): Intercept term beta_0.\n",
        "\n",
        "    Returns:\n",
        "        pd.DataFrame: Dataset containing predictor variables x1, x2, x3, x4, x5 and binary outcome y.\n",
        "    \"\"\"\n",
        "    # Ensure beta is a numpy array for easier manipulation\n",
        "    beta = np.array(beta)\n",
        "\n",
        "    # Generate predictors independently according to specified distributions\n",
        "    x1 = np.random.normal(loc=0, scale=1, size=n_samples)        # Standard normal distribution\n",
        "    x2 = np.random.uniform(low=0, high=1, size=n_samples)        # Uniform distribution between 0 and 1\n",
        "    x3 = np.random.exponential(scale=1, size=n_samples)          # Exponential distribution with rate = 1\n",
        "    x4 = np.random.binomial(n=1, p=0.5, size=n_samples)          # Bernoulli distribution with p = 0.5\n",
        "    x5 = np.random.poisson(lam=3, size=n_samples)                # Poisson distribution with lambda = 3\n",
        "\n",
        "    # Combine predictors into a matrix X\n",
        "    X = np.column_stack((x1, x2, x3, x4, x5))\n",
        "\n",
        "    # Compute logit(p) = beta_0 + beta1*x1 + beta2*x2 + beta3*x3 + beta4*x4 + beta5*x5\n",
        "    logit_p = beta_0 + np.dot(X, beta)\n",
        "\n",
        "    # Convert logit to probability using the sigmoid function: p = 1 / (1 + exp(-logit_p))\n",
        "    p = 1 / (1 + np.exp(-logit_p))\n",
        "\n",
        "    # Generate binary outcome y from Bernoulli distribution with success probability p\n",
        "    y = np.random.binomial(n=1, p=p)\n",
        "\n",
        "    # Create a DataFrame for better readability\n",
        "    dataset = pd.DataFrame({\n",
        "        'x1': x1,\n",
        "        'x2': x2,\n",
        "        'x3': x3,\n",
        "        'x4': x4,\n",
        "        'x5': x5,\n",
        "        'y': y\n",
        "    })\n",
        "\n",
        "    return dataset\n",
        "\n",
        "# Parameters\n",
        "n_samples = 1000\n",
        "beta = [5, 4, 3, 2, 1]  # Coefficients for predictors\n",
        "beta_0 = 0              # Intercept term\n",
        "\n",
        "# Generate the dataset\n",
        "dataset = generate_dataset(n_samples, beta, beta_0=beta_0)\n",
        "\n",
        "# Display the first few rows of the dataset\n",
        "print(dataset.head())\n"
      ]
    },
    {
      "cell_type": "code",
      "source": [
        "import numpy as np\n",
        "import pandas as pd\n",
        "\n",
        "def generate_dataset(n_samples, beta, beta_0=0, imbalance_ratio=(0.65, 0.35)):\n",
        "    \"\"\"\n",
        "    Generate dataset (x, y) using a logit model with a specified imbalance ratio.\n",
        "\n",
        "    Parameters:\n",
        "        n_samples (int): Number of samples to generate.\n",
        "        beta (list or np.array): Coefficients [beta1, beta2, beta3, beta4, beta5].\n",
        "        beta_0 (float): Intercept term beta_0.\n",
        "        imbalance_ratio (tuple): Proportion of majority to minority class (e.g., (0.65, 0.35)).\n",
        "\n",
        "    Returns:\n",
        "        pd.DataFrame: Dataset containing predictor variables x1, x2, x3, x4, x5 and binary outcome y.\n",
        "    \"\"\"\n",
        "    # Ensure beta is a numpy array for easier manipulation\n",
        "    beta = np.array(beta)\n",
        "\n",
        "    # Generate predictors independently according to specified distributions\n",
        "    x1 = np.random.normal(loc=0, scale=1, size=n_samples)        # Standard normal distribution\n",
        "    x2 = np.random.uniform(low=0, high=1, size=n_samples)        # Uniform distribution between 0 and 1\n",
        "    x3 = np.random.exponential(scale=1, size=n_samples)          # Exponential distribution with rate = 1\n",
        "    x4 = np.random.binomial(n=1, p=0.5, size=n_samples)          # Bernoulli distribution with p = 0.5\n",
        "    x5 = np.random.poisson(lam=3, size=n_samples)                # Poisson distribution with lambda = 3\n",
        "\n",
        "    # Combine predictors into a matrix X\n",
        "    X = np.column_stack((x1, x2, x3, x4, x5))\n",
        "\n",
        "    # Compute logit(p) = beta_0 + beta1*x1 + beta2*x2 + beta3*x3 + beta4*x4 + beta5*x5\n",
        "    logit_p = beta_0 + np.dot(X, beta)\n",
        "\n",
        "    # Convert logit to probability using the sigmoid function: p = 1 / (1 + exp(-logit_p))\n",
        "    p = 1 / (1 + np.exp(-logit_p))\n",
        "\n",
        "    # Generate binary outcome y from Bernoulli distribution with success probability p\n",
        "    y = np.random.binomial(n=1, p=p)\n",
        "\n",
        "    # Adjust for imbalance ratio\n",
        "    majority_class = 0 if imbalance_ratio[0] > imbalance_ratio[1] else 1\n",
        "    minority_class = 1 - majority_class\n",
        "\n",
        "    majority_count = int(n_samples * imbalance_ratio[0])\n",
        "    minority_count = n_samples - majority_count\n",
        "\n",
        "    # Select samples for the majority and minority classes\n",
        "    majority_indices = np.where(y == majority_class)[0][:majority_count]\n",
        "    minority_indices = np.where(y == minority_class)[0][:minority_count]\n",
        "\n",
        "    selected_indices = np.concatenate([majority_indices, minority_indices])\n",
        "    np.random.shuffle(selected_indices)\n",
        "\n",
        "    y = y[selected_indices]\n",
        "    X = X[selected_indices]\n",
        "\n",
        "    # Create a DataFrame for better readability\n",
        "    dataset = pd.DataFrame({\n",
        "        'x1': X[:, 0],\n",
        "        'x2': X[:, 1],\n",
        "        'x3': X[:, 2],\n",
        "        'x4': X[:, 3],\n",
        "        'x5': X[:, 4],\n",
        "        'y': y\n",
        "    })\n",
        "\n",
        "    return dataset\n",
        "\n",
        "# Parameters\n",
        "n_samples = 1000\n",
        "beta = [5, 4, 3, 2, 1]  # Coefficients for predictors\n",
        "beta_0 = 0              # Intercept term\n",
        "imbalance_ratio = (0.65, 0.35)  # 65:35 imbalance ratio\n",
        "\n",
        "# Generate the dataset\n",
        "dataset = generate_dataset(n_samples, beta, beta_0=beta_0, imbalance_ratio=imbalance_ratio)\n",
        "\n",
        "# Display the first few rows of the dataset\n",
        "print(dataset.head())\n"
      ],
      "metadata": {
        "colab": {
          "base_uri": "https://localhost:8080/"
        },
        "id": "L32YyeZk8D1d",
        "outputId": "951d5e43-5412-4f39-8d67-ee80ac0902a0"
      },
      "execution_count": 13,
      "outputs": [
        {
          "output_type": "stream",
          "name": "stdout",
          "text": [
            "         x1        x2        x3   x4   x5  y\n",
            "0  2.054284  0.831488  1.846417  1.0  2.0  1\n",
            "1  0.699180  0.454819  1.039166  1.0  4.0  1\n",
            "2  0.153038  0.281539  0.140066  0.0  6.0  1\n",
            "3 -1.286509  0.592376  0.073071  1.0  2.0  0\n",
            "4 -0.892417  0.632338  0.927070  1.0  7.0  1\n"
          ]
        }
      ]
    },
    {
      "cell_type": "code",
      "source": [
        "dataset['y'].value_counts(normalize=True) * 100\n",
        "\n",
        "# Calculate and print the relative frequency distribution (percentage)\n",
        "print(dataset['y'].value_counts(normalize=True) * 100)\n",
        "# Count the number of values for each class in the 'y' column\n",
        "class_counts = dataset['y'].value_counts()\n",
        "\n",
        "# Print the results\n",
        "class_counts"
      ],
      "metadata": {
        "colab": {
          "base_uri": "https://localhost:8080/",
          "height": 247
        },
        "id": "3xcshECT8NdV",
        "outputId": "a37a7a79-ce79-4688-9889-ff9a28fdbcdd"
      },
      "execution_count": 14,
      "outputs": [
        {
          "output_type": "stream",
          "name": "stdout",
          "text": [
            "y\n",
            "1    80.275229\n",
            "0    19.724771\n",
            "Name: proportion, dtype: float64\n"
          ]
        },
        {
          "output_type": "execute_result",
          "data": {
            "text/plain": [
              "y\n",
              "1    350\n",
              "0     86\n",
              "Name: count, dtype: int64"
            ],
            "text/html": [
              "<div>\n",
              "<style scoped>\n",
              "    .dataframe tbody tr th:only-of-type {\n",
              "        vertical-align: middle;\n",
              "    }\n",
              "\n",
              "    .dataframe tbody tr th {\n",
              "        vertical-align: top;\n",
              "    }\n",
              "\n",
              "    .dataframe thead th {\n",
              "        text-align: right;\n",
              "    }\n",
              "</style>\n",
              "<table border=\"1\" class=\"dataframe\">\n",
              "  <thead>\n",
              "    <tr style=\"text-align: right;\">\n",
              "      <th></th>\n",
              "      <th>count</th>\n",
              "    </tr>\n",
              "    <tr>\n",
              "      <th>y</th>\n",
              "      <th></th>\n",
              "    </tr>\n",
              "  </thead>\n",
              "  <tbody>\n",
              "    <tr>\n",
              "      <th>1</th>\n",
              "      <td>350</td>\n",
              "    </tr>\n",
              "    <tr>\n",
              "      <th>0</th>\n",
              "      <td>86</td>\n",
              "    </tr>\n",
              "  </tbody>\n",
              "</table>\n",
              "</div><br><label><b>dtype:</b> int64</label>"
            ]
          },
          "metadata": {},
          "execution_count": 14
        }
      ]
    },
    {
      "cell_type": "code",
      "source": [
        "# prompt: i want to do stratified train test split\n",
        "\n",
        "from sklearn.model_selection import train_test_split\n",
        "\n",
        "# Assuming 'dataset' is your DataFrame with 'y' as the target variable\n",
        "X = dataset.drop('y', axis=1)\n",
        "y = dataset['y']\n",
        "\n",
        "# Stratified train-test split\n",
        "X_train, X_test, y_train, y_test = train_test_split(X, y, test_size=0.2, stratify=y, random_state=42)\n",
        "\n",
        "# Print the shapes of the resulting datasets\n",
        "print(\"X_train shape:\", X_train.shape)\n",
        "print(\"X_test shape:\", X_test.shape)\n",
        "print(\"y_train shape:\", y_train.shape)\n",
        "print(\"y_test shape:\", y_test.shape)\n",
        "\n",
        "# Check class distribution in training and testing sets\n",
        "print(\"\\nClass distribution in y_train:\")\n",
        "print(y_train.value_counts(normalize=True) * 100)\n",
        "\n",
        "print(\"\\nClass distribution in y_test:\")\n",
        "print(y_test.value_counts(normalize=True) * 100)"
      ],
      "metadata": {
        "colab": {
          "base_uri": "https://localhost:8080/"
        },
        "id": "vsEI4BNC8bAT",
        "outputId": "440eb0d6-1cf6-4217-cd4a-b6d6bcd35796"
      },
      "execution_count": 16,
      "outputs": [
        {
          "output_type": "stream",
          "name": "stdout",
          "text": [
            "X_train shape: (348, 5)\n",
            "X_test shape: (88, 5)\n",
            "y_train shape: (348,)\n",
            "y_test shape: (88,)\n",
            "\n",
            "Class distribution in y_train:\n",
            "y\n",
            "1    80.172414\n",
            "0    19.827586\n",
            "Name: proportion, dtype: float64\n",
            "\n",
            "Class distribution in y_test:\n",
            "y\n",
            "1    80.681818\n",
            "0    19.318182\n",
            "Name: proportion, dtype: float64\n"
          ]
        }
      ]
    },
    {
      "cell_type": "code",
      "source": [
        "from sklearn.linear_model import LogisticRegression\n",
        "from sklearn.metrics import confusion_matrix, accuracy_score\n",
        "\n",
        "# Step 1: Fit logistic regression model on training data\n",
        "model = LogisticRegression()\n",
        "model.fit(X_train, y_train)\n",
        "\n",
        "# Step 2: Make predictions (probabilities) on test data\n",
        "pred_probs = model.predict_proba(X_test)[:, 1]\n",
        "\n",
        "# Step 3: Convert probabilities to class labels (using 0.5 threshold)\n",
        "pred_labels = (pred_probs >= 0.5).astype(int)\n",
        "\n",
        "# Step 4: Create a confusion matrix\n",
        "conf_matrix = confusion_matrix(y_test, pred_labels)\n",
        "print(\"Confusion Matrix:\\n\", conf_matrix)\n",
        "\n",
        "# Extract values from the confusion matrix\n",
        "TN, FP, FN, TP = conf_matrix.ravel()\n",
        "\n",
        "# Calculate accuracy, sensitivity, and specificity\n",
        "accuracy = accuracy_score(y_test, pred_labels)\n",
        "sensitivity = TP / (TP + FN)  # Recall\n",
        "specificity = TN / (TN + FP)\n",
        "specificity = TN / (TN + FP)\n",
        "gmean_val = gmean([sensitivity, specificity])\n",
        "\n",
        "# Display the results\n",
        "print(f\"Accuracy: {accuracy * 100:.2f}%\")\n",
        "print(f\"Recall (Sensitivity): {recall:.4f}\")\n",
        "print(f\"Specificity: {specificity * 100:.2f}%\")\n",
        "print(f\"Precision: {precision:.4f}\")\n",
        "print(f\"F1-Score: {f1:.4f}\")\n",
        "print(f\"ROC-AUC: {roc_auc:.4f}\")\n",
        "print(f\"G-mean: {gmean_val:.4f}\")"
      ],
      "metadata": {
        "colab": {
          "base_uri": "https://localhost:8080/"
        },
        "id": "m1zCmdM--u4R",
        "outputId": "d1e53766-1669-42a9-e3ea-c9352c90d0b3"
      },
      "execution_count": 21,
      "outputs": [
        {
          "output_type": "stream",
          "name": "stdout",
          "text": [
            "Confusion Matrix:\n",
            " [[14  3]\n",
            " [ 4 67]]\n",
            "Accuracy: 92.05%\n",
            "Recall (Sensitivity): 0.9437\n",
            "Specificity: 82.35%\n",
            "Precision: 0.9571\n",
            "F1-Score: 0.9504\n",
            "ROC-AUC: 0.9693\n",
            "G-mean: 0.8816\n"
          ]
        }
      ]
    },
    {
      "cell_type": "code",
      "source": [
        "# prompt: use the above code but for SVC\n",
        "\n",
        "from sklearn.svm import SVC\n",
        "from sklearn.metrics import classification_report, roc_auc_score, precision_score, recall_score, f1_score, confusion_matrix, accuracy_score\n",
        "from scipy.stats import gmean\n",
        "\n",
        "# Step 1: Fit SVC model on training data\n",
        "model = SVC(probability=True) #Enable probability estimates for ROC-AUC\n",
        "model.fit(X_train, y_train)\n",
        "\n",
        "# Step 2: Make predictions (probabilities) on test data\n",
        "pred_probs = model.predict_proba(X_test)[:, 1]\n",
        "\n",
        "# Step 3: Convert probabilities to class labels (using 0.5 threshold)\n",
        "pred_labels = (pred_probs >= 0.5).astype(int)\n",
        "\n",
        "# Step 4: Evaluate the model\n",
        "conf_matrix = confusion_matrix(y_test, pred_labels)\n",
        "print(\"Confusion Matrix:\\n\", conf_matrix)\n",
        "\n",
        "accuracy = accuracy_score(y_test, pred_labels)\n",
        "precision = precision_score(y_test, pred_labels)\n",
        "recall = recall_score(y_test, pred_labels) #Sensitivity\n",
        "f1 = f1_score(y_test, pred_labels)\n",
        "roc_auc = roc_auc_score(y_test, pred_probs)\n",
        "\n",
        "TN, FP, FN, TP = conf_matrix.ravel()\n",
        "specificity = TN / (TN + FP)\n",
        "gmean_val = gmean([recall, specificity])\n",
        "\n",
        "\n",
        "print(f\"Accuracy: {accuracy * 100:.2f}%\")\n",
        "print(f\"Recall (Sensitivity): {recall:.4f}\")\n",
        "print(f\"Specificity: {specificity * 100:.2f}%\")\n",
        "print(f\"Precision: {precision:.4f}\")\n",
        "print(f\"F1-Score: {f1:.4f}\")\n",
        "print(f\"ROC-AUC: {roc_auc:.4f}\")\n",
        "print(f\"G-mean: {gmean_val:.4f}\")"
      ],
      "metadata": {
        "colab": {
          "base_uri": "https://localhost:8080/"
        },
        "id": "9mXs9K0v_xUN",
        "outputId": "f6320f0d-2e72-4f44-d353-cb74835b6425"
      },
      "execution_count": 23,
      "outputs": [
        {
          "output_type": "stream",
          "name": "stdout",
          "text": [
            "Confusion Matrix:\n",
            " [[14  3]\n",
            " [ 5 66]]\n",
            "Accuracy: 90.91%\n",
            "Recall (Sensitivity): 0.9296\n",
            "Specificity: 82.35%\n",
            "Precision: 0.9565\n",
            "F1-Score: 0.9429\n",
            "ROC-AUC: 0.9619\n",
            "G-mean: 0.8749\n"
          ]
        }
      ]
    },
    {
      "cell_type": "code",
      "source": [
        "# prompt: same code but for KNN\n",
        "\n",
        "from sklearn.neighbors import KNeighborsClassifier\n",
        "\n",
        "# ... (Your existing code for data generation and splitting) ...\n",
        "\n",
        "# Step 1: Fit KNN model on training data\n",
        "model = KNeighborsClassifier(n_neighbors=5)  # You can adjust n_neighbors\n",
        "model.fit(X_train, y_train)\n",
        "\n",
        "# Step 2: Make predictions on test data\n",
        "pred_labels = model.predict(X_test)\n",
        "\n",
        "# Step 3: Evaluate the model\n",
        "conf_matrix = confusion_matrix(y_test, pred_labels)\n",
        "print(\"Confusion Matrix:\\n\", conf_matrix)\n",
        "\n",
        "accuracy = accuracy_score(y_test, pred_labels)\n",
        "precision = precision_score(y_test, pred_labels)\n",
        "recall = recall_score(y_test, pred_labels)\n",
        "f1 = f1_score(y_test, pred_labels)\n",
        "\n",
        "TN, FP, FN, TP = conf_matrix.ravel()\n",
        "specificity = TN / (TN + FP)\n",
        "gmean_val = gmean([recall, specificity])\n",
        "\n",
        "print(f\"Accuracy: {accuracy * 100:.2f}%\")\n",
        "print(f\"Recall (Sensitivity): {recall:.4f}\")\n",
        "print(f\"Specificity: {specificity * 100:.2f}%\")\n",
        "print(f\"Precision: {precision:.4f}\")\n",
        "print(f\"F1-Score: {f1:.4f}\")\n",
        "print(f\"G-mean: {gmean_val:.4f}\")\n",
        "\n",
        "# You can also get predicted probabilities if your KNN model supports it\n",
        "# (some implementations might not provide probabilities directly)\n",
        "try:\n",
        "    pred_probs = model.predict_proba(X_test)[:, 1]\n",
        "    roc_auc = roc_auc_score(y_test, pred_probs)\n",
        "    print(f\"ROC-AUC: {roc_auc:.4f}\")\n",
        "except AttributeError:\n",
        "    print(\"ROC-AUC not available for this KNN implementation.\")"
      ],
      "metadata": {
        "colab": {
          "base_uri": "https://localhost:8080/"
        },
        "id": "rEu8iYUnADw1",
        "outputId": "6a4a669e-03cd-472d-a835-f0bb3f0cb3d7"
      },
      "execution_count": 25,
      "outputs": [
        {
          "output_type": "stream",
          "name": "stdout",
          "text": [
            "Confusion Matrix:\n",
            " [[13  4]\n",
            " [ 4 67]]\n",
            "Accuracy: 90.91%\n",
            "Recall (Sensitivity): 0.9437\n",
            "Specificity: 76.47%\n",
            "Precision: 0.9437\n",
            "F1-Score: 0.9437\n",
            "G-mean: 0.8495\n",
            "ROC-AUC: 0.9408\n"
          ]
        }
      ]
    },
    {
      "cell_type": "code",
      "source": [
        "# prompt: same code for decision tree\n",
        "\n",
        "from sklearn.tree import DecisionTreeClassifier\n",
        "\n",
        "# ... (Your existing code for data generation and splitting) ...\n",
        "\n",
        "# Step 1: Fit Decision Tree model on training data\n",
        "model = DecisionTreeClassifier(random_state=42)  # You can adjust hyperparameters\n",
        "model.fit(X_train, y_train)\n",
        "\n",
        "# Step 2: Make predictions on test data\n",
        "pred_labels = model.predict(X_test)\n",
        "\n",
        "# Step 3: Evaluate the model\n",
        "conf_matrix = confusion_matrix(y_test, pred_labels)\n",
        "print(\"Confusion Matrix:\\n\", conf_matrix)\n",
        "\n",
        "accuracy = accuracy_score(y_test, pred_labels)\n",
        "precision = precision_score(y_test, pred_labels)\n",
        "recall = recall_score(y_test, pred_labels)\n",
        "f1 = f1_score(y_test, pred_labels)\n",
        "\n",
        "TN, FP, FN, TP = conf_matrix.ravel()\n",
        "specificity = TN / (TN + FP)\n",
        "gmean_val = gmean([recall, specificity])\n",
        "\n",
        "print(f\"Accuracy: {accuracy * 100:.2f}%\")\n",
        "print(f\"Recall (Sensitivity): {recall:.4f}\")\n",
        "print(f\"Specificity: {specificity * 100:.2f}%\")\n",
        "print(f\"Precision: {precision:.4f}\")\n",
        "print(f\"F1-Score: {f1:.4f}\")\n",
        "print(f\"G-mean: {gmean_val:.4f}\")\n",
        "\n",
        "# Get predicted probabilities for ROC-AUC\n",
        "pred_probs = model.predict_proba(X_test)[:, 1]\n",
        "roc_auc = roc_auc_score(y_test, pred_probs)\n",
        "print(f\"ROC-AUC: {roc_auc:.4f}\")"
      ],
      "metadata": {
        "colab": {
          "base_uri": "https://localhost:8080/"
        },
        "id": "PhWje7wxAH60",
        "outputId": "50911d8f-97b2-42e7-8702-cdc3f80bf8be"
      },
      "execution_count": 26,
      "outputs": [
        {
          "output_type": "stream",
          "name": "stdout",
          "text": [
            "Confusion Matrix:\n",
            " [[14  3]\n",
            " [10 61]]\n",
            "Accuracy: 85.23%\n",
            "Recall (Sensitivity): 0.8592\n",
            "Specificity: 82.35%\n",
            "Precision: 0.9531\n",
            "F1-Score: 0.9037\n",
            "G-mean: 0.8412\n",
            "ROC-AUC: 0.8413\n"
          ]
        }
      ]
    }
  ]
}